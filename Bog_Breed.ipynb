{
 "cells": [
  {
   "cell_type": "code",
   "execution_count": 88,
   "id": "d6e80c2d",
   "metadata": {},
   "outputs": [],
   "source": [
    "import zipfile\n",
    "import os\n",
    "import cv2\n",
    "import re\n",
    "import numpy as np\n",
    "import pandas as pd"
   ]
  },
  {
   "cell_type": "code",
   "execution_count": 89,
   "id": "03aa3e6b",
   "metadata": {},
   "outputs": [],
   "source": [
    "folder = r\"C:\\Users\\gorla\\Downloads\\Dog_Breed.zip\""
   ]
  },
  {
   "cell_type": "code",
   "execution_count": 90,
   "id": "eb1ba1e3",
   "metadata": {},
   "outputs": [],
   "source": [
    "# Extracting the files\n",
    "\n",
    "file_path = r\"D:\\Vishu\\My\\Innomatics\\286\\Dog_Breed-\"  # where we want to extract the zip files\n",
    "\n",
    "with zipfile.ZipFile(folder,'r') as file:\n",
    "    file.extractall(file_path)"
   ]
  },
  {
   "cell_type": "code",
   "execution_count": 91,
   "id": "fca7068c",
   "metadata": {},
   "outputs": [
    {
     "data": {
      "text/plain": [
       "'D:\\\\Vishu\\\\My\\\\Innomatics\\\\286\\\\Dog_Breed\\\\dataset\\\\Yorkshire_Terrier'"
      ]
     },
     "execution_count": 91,
     "metadata": {},
     "output_type": "execute_result"
    }
   ],
   "source": [
    "os.getcwd()"
   ]
  },
  {
   "cell_type": "code",
   "execution_count": 92,
   "id": "d28099a6",
   "metadata": {},
   "outputs": [],
   "source": [
    "os.chdir(file_path)"
   ]
  },
  {
   "cell_type": "code",
   "execution_count": 93,
   "id": "53ce2d97",
   "metadata": {},
   "outputs": [
    {
     "data": {
      "text/plain": [
       "['dataset']"
      ]
     },
     "execution_count": 93,
     "metadata": {},
     "output_type": "execute_result"
    }
   ],
   "source": [
    "os.listdir()"
   ]
  },
  {
   "cell_type": "code",
   "execution_count": 94,
   "id": "faac741a",
   "metadata": {},
   "outputs": [
    {
     "ename": "SyntaxError",
     "evalue": "unterminated string literal (detected at line 1) (569072514.py, line 1)",
     "output_type": "error",
     "traceback": [
      "\u001b[1;36m  Cell \u001b[1;32mIn[94], line 1\u001b[1;36m\u001b[0m\n\u001b[1;33m    os.getcwd()+'\\\\'+'dataset\u001b[0m\n\u001b[1;37m                     ^\u001b[0m\n\u001b[1;31mSyntaxError\u001b[0m\u001b[1;31m:\u001b[0m unterminated string literal (detected at line 1)\n"
     ]
    }
   ],
   "source": [
    "os.getcwd()+'\\\\'+'dataset"
   ]
  },
  {
   "cell_type": "code",
   "execution_count": 95,
   "id": "fb8a1367",
   "metadata": {},
   "outputs": [],
   "source": [
    "original = os.getcwd()+'\\\\'+'dataset'\n",
    "os.chdir(original)"
   ]
  },
  {
   "cell_type": "code",
   "execution_count": 96,
   "id": "e812b61b",
   "metadata": {},
   "outputs": [
    {
     "data": {
      "text/plain": [
       "'D:\\\\Vishu\\\\My\\\\Innomatics\\\\286\\\\Dog_Breed-\\\\dataset'"
      ]
     },
     "execution_count": 96,
     "metadata": {},
     "output_type": "execute_result"
    }
   ],
   "source": [
    "os.getcwd()"
   ]
  },
  {
   "cell_type": "code",
   "execution_count": 97,
   "id": "a23f7a2d",
   "metadata": {},
   "outputs": [
    {
     "data": {
      "text/plain": [
       "['Beagle',\n",
       " 'Boxer',\n",
       " 'Bulldog',\n",
       " 'Dachshund',\n",
       " 'German_Shepherd',\n",
       " 'Golden_Retriever',\n",
       " 'Labrador_Retriever',\n",
       " 'Poodle',\n",
       " 'Rottweiler',\n",
       " 'Yorkshire_Terrier']"
      ]
     },
     "execution_count": 97,
     "metadata": {},
     "output_type": "execute_result"
    }
   ],
   "source": [
    "os.listdir()"
   ]
  },
  {
   "cell_type": "code",
   "execution_count": 98,
   "id": "1ed82079",
   "metadata": {},
   "outputs": [
    {
     "name": "stdout",
     "output_type": "stream",
     "text": [
      "Beagle\n",
      "Boxer\n",
      "Bulldog\n",
      "Dachshund\n",
      "German_Shepherd\n",
      "Golden_Retriever\n",
      "Labrador_Retriever\n",
      "Poodle\n",
      "Rottweiler\n",
      "Yorkshire_Terrier\n"
     ]
    }
   ],
   "source": [
    "for i in os.listdir():\n",
    "    print(i)"
   ]
  },
  {
   "cell_type": "code",
   "execution_count": 99,
   "id": "88f3e7e0",
   "metadata": {},
   "outputs": [],
   "source": [
    "\n",
    "Rows = []  # empty list for rows of image\n",
    "label = []  # Breed names\n",
    "\n",
    "pattern = r\"\\b([A-Za-z]+?)_\\d+\\b\"\n",
    "\n",
    "for i in os.listdir():\n",
    "    path = original+'\\\\'+i    # getiing thet path each folder i.e digit 0,1\n",
    "    os.chdir(path)\n",
    "    \n",
    "    \n",
    "    for j in os.listdir():      # entering into folders\n",
    "        array = cv2.imread(j,0)  # reading the image as array\n",
    "        resized = cv2.resize(array,(200,200))   # resizing for uniformity\n",
    "        row = resized.flatten()  # making image as a row\n",
    "        Rows.append(row)\n",
    "        match = re.search(pattern,j)\n",
    "        if match:\n",
    "            label.append(match.group(1))   # # Extract the breed name from the folder name\n",
    "\n",
    "\n",
    "df1 = pd.DataFrame(Rows)\n",
    "df2 = pd.DataFrame(label,columns = ['Breed'])\n",
    "df = pd.concat([df1,df2], axis = 1)   # creating the dataframe\n"
   ]
  },
  {
   "cell_type": "code",
   "execution_count": 100,
   "id": "fedd4d4e",
   "metadata": {},
   "outputs": [
    {
     "data": {
      "text/html": [
       "<div>\n",
       "<style scoped>\n",
       "    .dataframe tbody tr th:only-of-type {\n",
       "        vertical-align: middle;\n",
       "    }\n",
       "\n",
       "    .dataframe tbody tr th {\n",
       "        vertical-align: top;\n",
       "    }\n",
       "\n",
       "    .dataframe thead th {\n",
       "        text-align: right;\n",
       "    }\n",
       "</style>\n",
       "<table border=\"1\" class=\"dataframe\">\n",
       "  <thead>\n",
       "    <tr style=\"text-align: right;\">\n",
       "      <th></th>\n",
       "      <th>0</th>\n",
       "      <th>1</th>\n",
       "      <th>2</th>\n",
       "      <th>3</th>\n",
       "      <th>4</th>\n",
       "      <th>5</th>\n",
       "      <th>6</th>\n",
       "      <th>7</th>\n",
       "      <th>8</th>\n",
       "      <th>9</th>\n",
       "      <th>...</th>\n",
       "      <th>39991</th>\n",
       "      <th>39992</th>\n",
       "      <th>39993</th>\n",
       "      <th>39994</th>\n",
       "      <th>39995</th>\n",
       "      <th>39996</th>\n",
       "      <th>39997</th>\n",
       "      <th>39998</th>\n",
       "      <th>39999</th>\n",
       "      <th>Breed</th>\n",
       "    </tr>\n",
       "  </thead>\n",
       "  <tbody>\n",
       "    <tr>\n",
       "      <th>0</th>\n",
       "      <td>0</td>\n",
       "      <td>1</td>\n",
       "      <td>2</td>\n",
       "      <td>6</td>\n",
       "      <td>9</td>\n",
       "      <td>13</td>\n",
       "      <td>17</td>\n",
       "      <td>20</td>\n",
       "      <td>22</td>\n",
       "      <td>21</td>\n",
       "      <td>...</td>\n",
       "      <td>130</td>\n",
       "      <td>131</td>\n",
       "      <td>130</td>\n",
       "      <td>129</td>\n",
       "      <td>127</td>\n",
       "      <td>125</td>\n",
       "      <td>126</td>\n",
       "      <td>127</td>\n",
       "      <td>127</td>\n",
       "      <td>Beagle</td>\n",
       "    </tr>\n",
       "    <tr>\n",
       "      <th>1</th>\n",
       "      <td>255</td>\n",
       "      <td>255</td>\n",
       "      <td>255</td>\n",
       "      <td>255</td>\n",
       "      <td>255</td>\n",
       "      <td>255</td>\n",
       "      <td>255</td>\n",
       "      <td>255</td>\n",
       "      <td>255</td>\n",
       "      <td>255</td>\n",
       "      <td>...</td>\n",
       "      <td>255</td>\n",
       "      <td>255</td>\n",
       "      <td>255</td>\n",
       "      <td>255</td>\n",
       "      <td>255</td>\n",
       "      <td>255</td>\n",
       "      <td>255</td>\n",
       "      <td>255</td>\n",
       "      <td>255</td>\n",
       "      <td>Beagle</td>\n",
       "    </tr>\n",
       "    <tr>\n",
       "      <th>2</th>\n",
       "      <td>183</td>\n",
       "      <td>185</td>\n",
       "      <td>183</td>\n",
       "      <td>175</td>\n",
       "      <td>159</td>\n",
       "      <td>139</td>\n",
       "      <td>117</td>\n",
       "      <td>94</td>\n",
       "      <td>75</td>\n",
       "      <td>64</td>\n",
       "      <td>...</td>\n",
       "      <td>165</td>\n",
       "      <td>164</td>\n",
       "      <td>163</td>\n",
       "      <td>162</td>\n",
       "      <td>160</td>\n",
       "      <td>159</td>\n",
       "      <td>157</td>\n",
       "      <td>154</td>\n",
       "      <td>154</td>\n",
       "      <td>Beagle</td>\n",
       "    </tr>\n",
       "    <tr>\n",
       "      <th>3</th>\n",
       "      <td>217</td>\n",
       "      <td>218</td>\n",
       "      <td>219</td>\n",
       "      <td>220</td>\n",
       "      <td>221</td>\n",
       "      <td>224</td>\n",
       "      <td>225</td>\n",
       "      <td>226</td>\n",
       "      <td>227</td>\n",
       "      <td>229</td>\n",
       "      <td>...</td>\n",
       "      <td>119</td>\n",
       "      <td>111</td>\n",
       "      <td>98</td>\n",
       "      <td>94</td>\n",
       "      <td>90</td>\n",
       "      <td>91</td>\n",
       "      <td>88</td>\n",
       "      <td>83</td>\n",
       "      <td>84</td>\n",
       "      <td>Beagle</td>\n",
       "    </tr>\n",
       "    <tr>\n",
       "      <th>4</th>\n",
       "      <td>155</td>\n",
       "      <td>154</td>\n",
       "      <td>154</td>\n",
       "      <td>156</td>\n",
       "      <td>160</td>\n",
       "      <td>165</td>\n",
       "      <td>171</td>\n",
       "      <td>176</td>\n",
       "      <td>178</td>\n",
       "      <td>179</td>\n",
       "      <td>...</td>\n",
       "      <td>125</td>\n",
       "      <td>127</td>\n",
       "      <td>130</td>\n",
       "      <td>133</td>\n",
       "      <td>134</td>\n",
       "      <td>135</td>\n",
       "      <td>134</td>\n",
       "      <td>133</td>\n",
       "      <td>132</td>\n",
       "      <td>Beagle</td>\n",
       "    </tr>\n",
       "    <tr>\n",
       "      <th>...</th>\n",
       "      <td>...</td>\n",
       "      <td>...</td>\n",
       "      <td>...</td>\n",
       "      <td>...</td>\n",
       "      <td>...</td>\n",
       "      <td>...</td>\n",
       "      <td>...</td>\n",
       "      <td>...</td>\n",
       "      <td>...</td>\n",
       "      <td>...</td>\n",
       "      <td>...</td>\n",
       "      <td>...</td>\n",
       "      <td>...</td>\n",
       "      <td>...</td>\n",
       "      <td>...</td>\n",
       "      <td>...</td>\n",
       "      <td>...</td>\n",
       "      <td>...</td>\n",
       "      <td>...</td>\n",
       "      <td>...</td>\n",
       "      <td>...</td>\n",
       "    </tr>\n",
       "    <tr>\n",
       "      <th>962</th>\n",
       "      <td>19</td>\n",
       "      <td>19</td>\n",
       "      <td>18</td>\n",
       "      <td>18</td>\n",
       "      <td>17</td>\n",
       "      <td>17</td>\n",
       "      <td>16</td>\n",
       "      <td>15</td>\n",
       "      <td>14</td>\n",
       "      <td>14</td>\n",
       "      <td>...</td>\n",
       "      <td>205</td>\n",
       "      <td>205</td>\n",
       "      <td>204</td>\n",
       "      <td>204</td>\n",
       "      <td>203</td>\n",
       "      <td>202</td>\n",
       "      <td>201</td>\n",
       "      <td>201</td>\n",
       "      <td>201</td>\n",
       "      <td>Terrier</td>\n",
       "    </tr>\n",
       "    <tr>\n",
       "      <th>963</th>\n",
       "      <td>255</td>\n",
       "      <td>255</td>\n",
       "      <td>255</td>\n",
       "      <td>255</td>\n",
       "      <td>255</td>\n",
       "      <td>255</td>\n",
       "      <td>255</td>\n",
       "      <td>255</td>\n",
       "      <td>255</td>\n",
       "      <td>255</td>\n",
       "      <td>...</td>\n",
       "      <td>255</td>\n",
       "      <td>255</td>\n",
       "      <td>255</td>\n",
       "      <td>255</td>\n",
       "      <td>255</td>\n",
       "      <td>255</td>\n",
       "      <td>255</td>\n",
       "      <td>255</td>\n",
       "      <td>255</td>\n",
       "      <td>Terrier</td>\n",
       "    </tr>\n",
       "    <tr>\n",
       "      <th>964</th>\n",
       "      <td>80</td>\n",
       "      <td>80</td>\n",
       "      <td>79</td>\n",
       "      <td>78</td>\n",
       "      <td>77</td>\n",
       "      <td>76</td>\n",
       "      <td>75</td>\n",
       "      <td>74</td>\n",
       "      <td>73</td>\n",
       "      <td>73</td>\n",
       "      <td>...</td>\n",
       "      <td>133</td>\n",
       "      <td>129</td>\n",
       "      <td>123</td>\n",
       "      <td>123</td>\n",
       "      <td>128</td>\n",
       "      <td>128</td>\n",
       "      <td>128</td>\n",
       "      <td>128</td>\n",
       "      <td>123</td>\n",
       "      <td>Terrier</td>\n",
       "    </tr>\n",
       "    <tr>\n",
       "      <th>965</th>\n",
       "      <td>63</td>\n",
       "      <td>63</td>\n",
       "      <td>63</td>\n",
       "      <td>64</td>\n",
       "      <td>64</td>\n",
       "      <td>64</td>\n",
       "      <td>65</td>\n",
       "      <td>66</td>\n",
       "      <td>66</td>\n",
       "      <td>67</td>\n",
       "      <td>...</td>\n",
       "      <td>63</td>\n",
       "      <td>63</td>\n",
       "      <td>63</td>\n",
       "      <td>63</td>\n",
       "      <td>63</td>\n",
       "      <td>63</td>\n",
       "      <td>63</td>\n",
       "      <td>63</td>\n",
       "      <td>63</td>\n",
       "      <td>Terrier</td>\n",
       "    </tr>\n",
       "    <tr>\n",
       "      <th>966</th>\n",
       "      <td>94</td>\n",
       "      <td>92</td>\n",
       "      <td>88</td>\n",
       "      <td>83</td>\n",
       "      <td>78</td>\n",
       "      <td>75</td>\n",
       "      <td>77</td>\n",
       "      <td>81</td>\n",
       "      <td>86</td>\n",
       "      <td>89</td>\n",
       "      <td>...</td>\n",
       "      <td>74</td>\n",
       "      <td>67</td>\n",
       "      <td>59</td>\n",
       "      <td>58</td>\n",
       "      <td>60</td>\n",
       "      <td>56</td>\n",
       "      <td>55</td>\n",
       "      <td>57</td>\n",
       "      <td>57</td>\n",
       "      <td>Terrier</td>\n",
       "    </tr>\n",
       "  </tbody>\n",
       "</table>\n",
       "<p>967 rows × 40001 columns</p>\n",
       "</div>"
      ],
      "text/plain": [
       "       0    1    2    3    4    5    6    7    8    9  ...  39991  39992  \\\n",
       "0      0    1    2    6    9   13   17   20   22   21  ...    130    131   \n",
       "1    255  255  255  255  255  255  255  255  255  255  ...    255    255   \n",
       "2    183  185  183  175  159  139  117   94   75   64  ...    165    164   \n",
       "3    217  218  219  220  221  224  225  226  227  229  ...    119    111   \n",
       "4    155  154  154  156  160  165  171  176  178  179  ...    125    127   \n",
       "..   ...  ...  ...  ...  ...  ...  ...  ...  ...  ...  ...    ...    ...   \n",
       "962   19   19   18   18   17   17   16   15   14   14  ...    205    205   \n",
       "963  255  255  255  255  255  255  255  255  255  255  ...    255    255   \n",
       "964   80   80   79   78   77   76   75   74   73   73  ...    133    129   \n",
       "965   63   63   63   64   64   64   65   66   66   67  ...     63     63   \n",
       "966   94   92   88   83   78   75   77   81   86   89  ...     74     67   \n",
       "\n",
       "     39993  39994  39995  39996  39997  39998  39999    Breed  \n",
       "0      130    129    127    125    126    127    127   Beagle  \n",
       "1      255    255    255    255    255    255    255   Beagle  \n",
       "2      163    162    160    159    157    154    154   Beagle  \n",
       "3       98     94     90     91     88     83     84   Beagle  \n",
       "4      130    133    134    135    134    133    132   Beagle  \n",
       "..     ...    ...    ...    ...    ...    ...    ...      ...  \n",
       "962    204    204    203    202    201    201    201  Terrier  \n",
       "963    255    255    255    255    255    255    255  Terrier  \n",
       "964    123    123    128    128    128    128    123  Terrier  \n",
       "965     63     63     63     63     63     63     63  Terrier  \n",
       "966     59     58     60     56     55     57     57  Terrier  \n",
       "\n",
       "[967 rows x 40001 columns]"
      ]
     },
     "execution_count": 100,
     "metadata": {},
     "output_type": "execute_result"
    }
   ],
   "source": [
    "df"
   ]
  },
  {
   "cell_type": "code",
   "execution_count": 125,
   "id": "3b12ed30",
   "metadata": {},
   "outputs": [],
   "source": [
    "df.to_csv('Breed.csv')"
   ]
  },
  {
   "cell_type": "markdown",
   "id": "6352e0d2",
   "metadata": {},
   "source": [
    "# Model Building"
   ]
  },
  {
   "cell_type": "code",
   "execution_count": 101,
   "id": "5dcbf21f",
   "metadata": {},
   "outputs": [],
   "source": [
    "X = df.drop('Breed',axis = 1)\n",
    "y = df['Breed']"
   ]
  },
  {
   "cell_type": "code",
   "execution_count": 102,
   "id": "bb085445",
   "metadata": {},
   "outputs": [],
   "source": [
    "from sklearn.model_selection import train_test_split\n",
    "\n",
    "from sklearn.metrics import accuracy_score"
   ]
  },
  {
   "cell_type": "code",
   "execution_count": 103,
   "id": "46dc400c",
   "metadata": {},
   "outputs": [],
   "source": [
    "X_train,X_test,y_train,y_test = train_test_split(X,y,test_size=0.2,random_state=23)"
   ]
  },
  {
   "cell_type": "code",
   "execution_count": null,
   "id": "b097f85b",
   "metadata": {},
   "outputs": [],
   "source": []
  },
  {
   "cell_type": "markdown",
   "id": "4cb7e213",
   "metadata": {},
   "source": [
    "# KNN"
   ]
  },
  {
   "cell_type": "code",
   "execution_count": 104,
   "id": "99c640bd",
   "metadata": {},
   "outputs": [
    {
     "data": {
      "text/plain": [
       "0.8298969072164949"
      ]
     },
     "execution_count": 104,
     "metadata": {},
     "output_type": "execute_result"
    }
   ],
   "source": [
    "from sklearn.neighbors import KNeighborsClassifier\n",
    "knn = KNeighborsClassifier()\n",
    "knn.fit(X_train,y_train)\n",
    "y_pred = knn.predict(X_test)\n",
    "accuracy_score(y_test,y_pred)"
   ]
  },
  {
   "cell_type": "markdown",
   "id": "2df2b1fc",
   "metadata": {},
   "source": [
    "## Decision Tree"
   ]
  },
  {
   "cell_type": "code",
   "execution_count": 105,
   "id": "58d431f3",
   "metadata": {},
   "outputs": [
    {
     "data": {
      "text/plain": [
       "0.9845360824742269"
      ]
     },
     "execution_count": 105,
     "metadata": {},
     "output_type": "execute_result"
    }
   ],
   "source": [
    "from sklearn.tree import DecisionTreeClassifier\n",
    "tree = DecisionTreeClassifier()\n",
    "tree.fit(X_train,y_train)\n",
    "y_pred = tree.predict(X_test)\n",
    "accuracy_score(y_test,y_pred)"
   ]
  },
  {
   "cell_type": "code",
   "execution_count": null,
   "id": "3e3941b5",
   "metadata": {},
   "outputs": [],
   "source": []
  },
  {
   "cell_type": "markdown",
   "id": "98affe1c",
   "metadata": {},
   "source": [
    "## Support Vector Classifier"
   ]
  },
  {
   "cell_type": "code",
   "execution_count": null,
   "id": "dd88d8fc",
   "metadata": {},
   "outputs": [],
   "source": [
    "from sklearn.svm import SVC\n",
    "sv = SVC()\n",
    "sv.fit(X_train,y_train)\n",
    "y_pred = sv.predict(X_test)\n",
    "accuracy_score(y_test,y_pred)"
   ]
  },
  {
   "cell_type": "code",
   "execution_count": null,
   "id": "08573091",
   "metadata": {},
   "outputs": [],
   "source": []
  },
  {
   "cell_type": "markdown",
   "id": "789b6150",
   "metadata": {},
   "source": [
    "# Logistic Regression"
   ]
  },
  {
   "cell_type": "code",
   "execution_count": 107,
   "id": "a769aec2",
   "metadata": {},
   "outputs": [
    {
     "data": {
      "text/plain": [
       "0.9896907216494846"
      ]
     },
     "execution_count": 107,
     "metadata": {},
     "output_type": "execute_result"
    }
   ],
   "source": [
    "from sklearn.linear_model import LogisticRegression\n",
    "log = LogisticRegression()\n",
    "log.fit(X_train,y_train)\n",
    "y_pred = log.predict(X_test)\n",
    "accuracy_score(y_test,y_pred)"
   ]
  },
  {
   "cell_type": "markdown",
   "id": "170b3018",
   "metadata": {},
   "source": [
    "## Naive Bayes"
   ]
  },
  {
   "cell_type": "code",
   "execution_count": 108,
   "id": "4b690252",
   "metadata": {},
   "outputs": [
    {
     "data": {
      "text/plain": [
       "0.4175257731958763"
      ]
     },
     "execution_count": 108,
     "metadata": {},
     "output_type": "execute_result"
    }
   ],
   "source": [
    "from sklearn.naive_bayes import MultinomialNB\n",
    "nb = MultinomialNB()\n",
    "nb.fit(X_train,y_train)\n",
    "y_pred = nb.predict(X_test)\n",
    "accuracy_score(y_test,y_pred)"
   ]
  },
  {
   "cell_type": "code",
   "execution_count": 109,
   "id": "53b779bf",
   "metadata": {},
   "outputs": [],
   "source": [
    "def upload_image(path):\n",
    "    array = cv2.imread(path,0)\n",
    "    resized = cv2.resize(array,(200,200))\n",
    "    data = resized.flatten()\n",
    "    print(log.predict([data])[0])"
   ]
  },
  {
   "cell_type": "code",
   "execution_count": 113,
   "id": "c096e4dd",
   "metadata": {},
   "outputs": [
    {
     "name": "stdout",
     "output_type": "stream",
     "text": [
      "Terrier\n"
     ]
    }
   ],
   "source": [
    "upload_image(r\"D:\\Vishu\\My\\Innomatics\\286\\Dog_Breed-\\dataset\\Yorkshire_Terrier\\Yorkshire Terrier_1.jpg\")"
   ]
  },
  {
   "cell_type": "code",
   "execution_count": null,
   "id": "cc8b5b48",
   "metadata": {},
   "outputs": [],
   "source": []
  },
  {
   "cell_type": "code",
   "execution_count": 122,
   "id": "c7d36781",
   "metadata": {},
   "outputs": [],
   "source": [
    "import pickle"
   ]
  },
  {
   "cell_type": "code",
   "execution_count": 123,
   "id": "0105a9dc",
   "metadata": {},
   "outputs": [],
   "source": [
    "pickle.dump(log,open(r\"LR1.pkl\",\"wb\"))  # writing as a binary format and # Saving the model using pickle"
   ]
  },
  {
   "cell_type": "code",
   "execution_count": 124,
   "id": "8223c45e",
   "metadata": {},
   "outputs": [],
   "source": [
    "Dog_brd = pickle.load(open(r\"LR1.pkl\",\"rb\"))   # Loading and using the model"
   ]
  },
  {
   "cell_type": "code",
   "execution_count": null,
   "id": "9869a479",
   "metadata": {},
   "outputs": [],
   "source": []
  },
  {
   "cell_type": "code",
   "execution_count": null,
   "id": "5c4cecd6",
   "metadata": {},
   "outputs": [],
   "source": []
  }
 ],
 "metadata": {
  "kernelspec": {
   "display_name": "Python 3 (ipykernel)",
   "language": "python",
   "name": "python3"
  },
  "language_info": {
   "codemirror_mode": {
    "name": "ipython",
    "version": 3
   },
   "file_extension": ".py",
   "mimetype": "text/x-python",
   "name": "python",
   "nbconvert_exporter": "python",
   "pygments_lexer": "ipython3",
   "version": "3.10.9"
  }
 },
 "nbformat": 4,
 "nbformat_minor": 5
}
